{
 "cells": [
  {
   "cell_type": "code",
   "execution_count": 1,
   "metadata": {},
   "outputs": [
    {
     "name": "stdout",
     "output_type": "stream",
     "text": [
      "loading annotations into memory...\n",
      "Done (t=0.33s)\n",
      "creating index...\n",
      "index created!\n"
     ]
    }
   ],
   "source": [
    "from pycocotools.coco import COCO\n",
    "import requests\n",
    "from PIL import Image\n",
    "import glob\n",
    "import os\n",
    "import numpy as np\n",
    "\n",
    "class Args:\n",
    "    def __init__(self):\n",
    "        self.root_path = '../data/coco/'\n",
    "        self.class_list = ['airplane','suitcase','bird','cat','book','dog','elephant','horse','boat','truck']\n",
    "        self.imgs_per_class = 300\n",
    "\n",
    "args = Args()\n",
    "test = True\n",
    "if test:\n",
    "    coco = COCO(args.root_path+'annotations/instances_val2017.json')\n",
    "else:\n",
    "    coco = COCO(args.root_path+'annotations/instances_train2017.json')"
   ]
  },
  {
   "cell_type": "code",
   "execution_count": 2,
   "metadata": {},
   "outputs": [
    {
     "name": "stdout",
     "output_type": "stream",
     "text": [
      "Now gathering images for class: airplane\n",
      "Now gathering images for class: suitcase\n",
      "Now gathering images for class: bird\n",
      "Now gathering images for class: cat\n",
      "Now gathering images for class: book\n",
      "Now gathering images for class: dog\n",
      "Now gathering images for class: elephant\n",
      "Now gathering images for class: horse\n",
      "Now gathering images for class: boat\n",
      "Now gathering images for class: truck\n"
     ]
    }
   ],
   "source": [
    "## Return an array of image data and image labels with equal number images per class.\n",
    "img_list = []\n",
    "labels_list = []\n",
    "k = 0\n",
    "for i, class_name in enumerate(args.class_list):\n",
    "    print('Now gathering images for class: ' + class_name)\n",
    "    catIds = coco.getCatIds(catNms=class_name)\n",
    "    imgIds = coco.getImgIds(catIds=catIds)\n",
    "    imgs_info = coco.loadImgs(imgIds)\n",
    "    n_imgs_in_class = 0\n",
    "\n",
    "    for img_info in imgs_info:\n",
    "        ## Download\n",
    "        r = requests.get(img_info['coco_url'], stream=True)\n",
    "        ## Image\n",
    "        img = Image.open(r.raw)\n",
    "        img = img.resize((32, 32), Image.BOX)\n",
    "        img = np.array(img)\n",
    "        img = np.expand_dims(img, 0)\n",
    "        img_list.append(img)\n",
    "        ## Label\n",
    "        labels_list.append(catIds[0])\n",
    "        ## Check number of images\n",
    "        n_imgs_in_class += 1\n",
    "        if n_imgs_in_class == args.imgs_per_class:\n",
    "            break"
   ]
  },
  {
   "cell_type": "code",
   "execution_count": 6,
   "metadata": {},
   "outputs": [],
   "source": [
    "test = True"
   ]
  },
  {
   "cell_type": "code",
   "execution_count": 7,
   "metadata": {},
   "outputs": [],
   "source": [
    "import pickle\n",
    "if test:\n",
    "    with open('../data/coco/image-data/test_img_data.pickle', 'wb') as F:\n",
    "        pickle.dump(img_list, F)\n",
    "    with open('../data/coco/image-data/test_labels.pickle', 'wb') as F:\n",
    "        pickle.dump(labels_list, F)\n",
    "else:\n",
    "    with open('../data/coco/image-data/img_data.pickle', 'wb') as F:\n",
    "        pickle.dump(img_list, F)\n",
    "    with open('../data/coco/image-data/labels.pickle', 'wb') as F:\n",
    "        pickle.dump(labels_list, F)"
   ]
  },
  {
   "cell_type": "code",
   "execution_count": 8,
   "metadata": {},
   "outputs": [],
   "source": [
    "import copy\n",
    "img_list2 = copy.copy(img_list)\n",
    "for i,img in enumerate(img_list2):\n",
    "    if img.ndim != 4:\n",
    "        img_list2[i] = img_list2[i-1]"
   ]
  },
  {
   "cell_type": "code",
   "execution_count": 9,
   "metadata": {},
   "outputs": [
    {
     "name": "stdout",
     "output_type": "stream",
     "text": [
      "(1506, 32, 32, 3)\n",
      "(1506,)\n"
     ]
    }
   ],
   "source": [
    "img_array = np.concatenate(img_list2, axis=0)\n",
    "print(img_array.shape)\n",
    "labels_array = np.hstack(labels_list)\n",
    "print(labels_array.shape)"
   ]
  },
  {
   "cell_type": "code",
   "execution_count": 10,
   "metadata": {},
   "outputs": [],
   "source": [
    "label_names = args.class_list\n",
    "data = {'data': img_array, 'labels': labels_array, 'label_names': label_names}\n",
    "if test:\n",
    "    with open('../data/coco/image-data/test_data.pickle', 'wb') as F:\n",
    "        pickle.dump(data, F)\n",
    "else:\n",
    "    with open('../data/coco/image-data/data.pickle', 'wb') as F:\n",
    "        pickle.dump(data, F)"
   ]
  }
 ],
 "metadata": {
  "interpreter": {
   "hash": "86be5d14a12ee4b20b2e7c121959634630161e00b5bd36e126459f5d3bbab943"
  },
  "kernelspec": {
   "display_name": "Python 3.9.7",
   "language": "python",
   "name": "python3"
  },
  "language_info": {
   "codemirror_mode": {
    "name": "ipython",
    "version": 3
   },
   "file_extension": ".py",
   "mimetype": "text/x-python",
   "name": "python",
   "nbconvert_exporter": "python",
   "pygments_lexer": "ipython3",
   "version": "3.6.13"
  },
  "orig_nbformat": 4
 },
 "nbformat": 4,
 "nbformat_minor": 2
}
